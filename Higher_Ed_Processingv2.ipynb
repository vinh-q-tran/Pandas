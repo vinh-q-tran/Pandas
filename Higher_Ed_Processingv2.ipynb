{
 "cells": [
  {
   "cell_type": "markdown",
   "metadata": {},
   "source": [
    "# Higher Ed Python Code"
   ]
  },
  {
   "cell_type": "code",
   "execution_count": 1,
   "metadata": {},
   "outputs": [],
   "source": [
    "# Import Libraries\n",
    "import pandas as pd\n",
    "import numpy as np\n",
    "import os\n",
    "import datetime\n",
    "import xlsxwriter\n",
    "import re"
   ]
  },
  {
   "cell_type": "markdown",
   "metadata": {},
   "source": [
    "#### Importing Data"
   ]
  },
  {
   "cell_type": "code",
   "execution_count": 2,
   "metadata": {},
   "outputs": [
    {
     "name": "stdout",
     "output_type": "stream",
     "text": [
      "University of Florida\n",
      "Miami Dade College\n"
     ]
    }
   ],
   "source": [
    "# Importing all of the sheets from the UiPath output and creating a variable for each\n",
    "# Appending all variables into a list\n",
    "HigherEdSheets = pd.ExcelFile(\"HigherEdOutput/HigherEd.xlsx\").sheet_names\n",
    "List_of_Schools = []\n",
    "for i in HigherEdSheets:\n",
    "    tab_name = i.replace(\" \",\"_\")\n",
    "    print(i)\n",
    "    globals()[tab_name] = pd.DataFrame(pd.read_excel(\"HigherEdOutput/HigherEd.xlsx\", sheet_name = i))\n",
    "    globals()[tab_name].name = i\n",
    "    List_of_Schools.append(globals()[tab_name])"
   ]
  },
  {
   "cell_type": "markdown",
   "metadata": {},
   "source": [
    "#### Cleaning Up Data"
   ]
  },
  {
   "cell_type": "code",
   "execution_count": 20,
   "metadata": {},
   "outputs": [],
   "source": [
    "opp_dict = {'School':[],'Bid_Number':[],'Bid_Start_Date':[], 'Bid_Close_Date':[],\"Bid_Description\":[], \"Hyperlink\":[]}\n",
    "Opportunities = pd.DataFrame(opp_dict)\n",
    "\n",
    "def crop_columns(df1,df2):\n",
    "    # df1 should be 'Opportunities' dataframe\n",
    "    # df2 should be the dataframe in question\n",
    "    cropped_list = []\n",
    "    for i in df2.columns:\n",
    "        if i in df1.columns:\n",
    "            pass\n",
    "        else:\n",
    "            cropped_list.append(i)\n",
    "    return cropped_list\n"
   ]
  },
  {
   "cell_type": "code",
   "execution_count": 204,
   "metadata": {},
   "outputs": [
    {
     "data": {
      "text/html": [
       "<div>\n",
       "<style scoped>\n",
       "    .dataframe tbody tr th:only-of-type {\n",
       "        vertical-align: middle;\n",
       "    }\n",
       "\n",
       "    .dataframe tbody tr th {\n",
       "        vertical-align: top;\n",
       "    }\n",
       "\n",
       "    .dataframe thead th {\n",
       "        text-align: right;\n",
       "    }\n",
       "</style>\n",
       "<table border=\"1\" class=\"dataframe\">\n",
       "  <thead>\n",
       "    <tr style=\"text-align: right;\">\n",
       "      <th></th>\n",
       "      <th>Bid_Number</th>\n",
       "      <th>Bid_Start_Date</th>\n",
       "      <th>Bid_Close_Date</th>\n",
       "      <th>Bid_Description</th>\n",
       "      <th>Hyperlink</th>\n",
       "    </tr>\n",
       "  </thead>\n",
       "  <tbody>\n",
       "  </tbody>\n",
       "</table>\n",
       "</div>"
      ],
      "text/plain": [
       "Empty DataFrame\n",
       "Columns: [Bid_Number, Bid_Start_Date, Bid_Close_Date, Bid_Description, Hyperlink]\n",
       "Index: []"
      ]
     },
     "execution_count": 204,
     "metadata": {},
     "output_type": "execute_result"
    }
   ],
   "source": [
    "Opportunities"
   ]
  },
  {
   "cell_type": "markdown",
   "metadata": {},
   "source": [
    "### University of Florida"
   ]
  },
  {
   "cell_type": "code",
   "execution_count": 199,
   "metadata": {},
   "outputs": [],
   "source": [
    "# University_of_Florida.columns\n",
    "# University_of_Florida.rename(columns = {'Bid Number':'Bid_Number','Bid Opening Date':'Bid_Start_Date'},inplace = True)\n",
    "# University_of_Florida.drop(columns = crop_columns(Opportunities,University_of_Florida), inplace = True)\n",
    "\n",
    "# # Clean up the dates to just grab the first one and convert it to a datetime\n",
    "# University_of_Florida.Bid_Start_Date = pd.to_datetime([University_of_Florida.Bid_Start_Date[i].split(' at')[0] for i in range(len(University_of_Florida.Bid_Start_Date))])\n",
    "\n",
    "\n",
    "# Opportunities.append(University_of_Florida)"
   ]
  },
  {
   "cell_type": "markdown",
   "metadata": {},
   "source": [
    "# Table Scraping"
   ]
  },
  {
   "cell_type": "code",
   "execution_count": 39,
   "metadata": {},
   "outputs": [],
   "source": [
    "List_Schools = pd.read_excel(\"List_of_Schools.xlsx\", sheet_name='Schools')"
   ]
  },
  {
   "cell_type": "code",
   "execution_count": 40,
   "metadata": {},
   "outputs": [
    {
     "data": {
      "text/html": [
       "<div>\n",
       "<style scoped>\n",
       "    .dataframe tbody tr th:only-of-type {\n",
       "        vertical-align: middle;\n",
       "    }\n",
       "\n",
       "    .dataframe tbody tr th {\n",
       "        vertical-align: top;\n",
       "    }\n",
       "\n",
       "    .dataframe thead th {\n",
       "        text-align: right;\n",
       "    }\n",
       "</style>\n",
       "<table border=\"1\" class=\"dataframe\">\n",
       "  <thead>\n",
       "    <tr style=\"text-align: right;\">\n",
       "      <th></th>\n",
       "      <th>School</th>\n",
       "      <th>URL</th>\n",
       "    </tr>\n",
       "  </thead>\n",
       "  <tbody>\n",
       "    <tr>\n",
       "      <th>0</th>\n",
       "      <td>University of Central Florida</td>\n",
       "      <td>https://procurement.ucf.edu/solicitations/</td>\n",
       "    </tr>\n",
       "    <tr>\n",
       "      <th>1</th>\n",
       "      <td>University of South Florida</td>\n",
       "      <td>https://bids.sciquest.com/apps/Router/PublicEv...</td>\n",
       "    </tr>\n",
       "    <tr>\n",
       "      <th>2</th>\n",
       "      <td>Univeristy of North Florida</td>\n",
       "      <td>https://bids.sciquest.com/apps/Router/PublicEv...</td>\n",
       "    </tr>\n",
       "    <tr>\n",
       "      <th>3</th>\n",
       "      <td>Florida State University</td>\n",
       "      <td>https://bids.sciquest.com/apps/Router/PublicEv...</td>\n",
       "    </tr>\n",
       "    <tr>\n",
       "      <th>4</th>\n",
       "      <td>University of Florida</td>\n",
       "      <td>https://procurement.ufl.edu/vendors/schedule-o...</td>\n",
       "    </tr>\n",
       "    <tr>\n",
       "      <th>5</th>\n",
       "      <td>Miami Dade College</td>\n",
       "      <td>https://www.bidnetdirect.com/florida/miamidade...</td>\n",
       "    </tr>\n",
       "    <tr>\n",
       "      <th>6</th>\n",
       "      <td>Florida International Univeristy</td>\n",
       "      <td>https://bids.sciquest.com/apps/Router/PublicEv...</td>\n",
       "    </tr>\n",
       "  </tbody>\n",
       "</table>\n",
       "</div>"
      ],
      "text/plain": [
       "                             School  \\\n",
       "0     University of Central Florida   \n",
       "1       University of South Florida   \n",
       "2       Univeristy of North Florida   \n",
       "3          Florida State University   \n",
       "4             University of Florida   \n",
       "5                Miami Dade College   \n",
       "6  Florida International Univeristy   \n",
       "\n",
       "                                                 URL  \n",
       "0         https://procurement.ucf.edu/solicitations/  \n",
       "1  https://bids.sciquest.com/apps/Router/PublicEv...  \n",
       "2  https://bids.sciquest.com/apps/Router/PublicEv...  \n",
       "3  https://bids.sciquest.com/apps/Router/PublicEv...  \n",
       "4  https://procurement.ufl.edu/vendors/schedule-o...  \n",
       "5  https://www.bidnetdirect.com/florida/miamidade...  \n",
       "6  https://bids.sciquest.com/apps/Router/PublicEv...  "
      ]
     },
     "execution_count": 40,
     "metadata": {},
     "output_type": "execute_result"
    }
   ],
   "source": [
    "List_Schools"
   ]
  },
  {
   "cell_type": "markdown",
   "metadata": {},
   "source": [
    "### For sciquest sites"
   ]
  },
  {
   "cell_type": "code",
   "execution_count": 49,
   "metadata": {},
   "outputs": [],
   "source": [
    "def clean_sciquest(school, url): # Takes tables in the sciquest format and cleans them up\n",
    "    df = pd.read_html(url)\n",
    "    def find_between(string, text1, text2): # finds the information between two strings\n",
    "        result=(re.search(text1+'(.*)'+text2, string))\n",
    "        final_text = result.group(1)\n",
    "        return final_text.strip()\n",
    "    def clean_date(string, text1, text2): # turns a string date into a datetime using the find_between function\n",
    "        date_clean_1 = find_between(string,text1,text2).split(\" \")[0:3]\n",
    "        date_clean_2 = date_clean_1[0]+\" \"+date_clean_1[1]+\" \"+date_clean_1[2]\n",
    "        return date_clean_2\n",
    "    \n",
    "#     clean_dict = {'Bid_Number':[],'Bid_Start_Date':[], 'Bid_Close_Date':[],\"Bid_Description\":[], 'Point of Contact':[]}\n",
    "    clean_dict = {'Bid_Number':[],'Bid_Start_Date':[], 'Bid_Close_Date':[],\"Bid_Description\":[], 'Hyperlink':[]}\n",
    "    clean_df = pd.DataFrame(clean_dict)\n",
    "    \n",
    "    for i in range(len(df[0].Details)):\n",
    "        clean_df.loc[i,'School'] = school\n",
    "        clean_df.loc[i,'Bid_Number'] = find_between(df[0].Details[i],\"Number\",'Contact')\n",
    "        clean_df.loc[i,'Bid_Start_Date'] = pd.to_datetime(clean_date(df[0].Details[i],'Open','Close'))\n",
    "        clean_df.loc[i,'Bid_Close_Date'] = pd.to_datetime(clean_date(df[0].Details[i],'Close','Type'))\n",
    "        clean_df.loc[i,'Bid_Description'] = df[0].Details[i].split(\"Open\")[0]\n",
    "        #clean_df.loc[i,'Point of Contact'] = find_between(df[0].Details[i],\"Contact\",'Details')\n",
    "    return clean_df"
   ]
  },
  {
   "cell_type": "code",
   "execution_count": 50,
   "metadata": {},
   "outputs": [],
   "source": [
    "opp_dict = {'School':[],'Bid_Number':[],'Bid_Start_Date':[], 'Bid_Close_Date':[],\"Bid_Description\":[], \"Hyperlink\":[]}\n",
    "Opportunities = pd.DataFrame(opp_dict)"
   ]
  },
  {
   "cell_type": "code",
   "execution_count": 51,
   "metadata": {},
   "outputs": [],
   "source": [
    "for i,j in zip(List_Schools['School'],List_Schools['URL']):\n",
    "    if 'sciquest' in j:\n",
    "        Opportunities = Opportunities.append(clean_sciquest(i,j))\n",
    "Opportunities.reset_index(inplace= True, drop = True)"
   ]
  },
  {
   "cell_type": "code",
   "execution_count": 52,
   "metadata": {},
   "outputs": [
    {
     "data": {
      "text/html": [
       "<div>\n",
       "<style scoped>\n",
       "    .dataframe tbody tr th:only-of-type {\n",
       "        vertical-align: middle;\n",
       "    }\n",
       "\n",
       "    .dataframe tbody tr th {\n",
       "        vertical-align: top;\n",
       "    }\n",
       "\n",
       "    .dataframe thead th {\n",
       "        text-align: right;\n",
       "    }\n",
       "</style>\n",
       "<table border=\"1\" class=\"dataframe\">\n",
       "  <thead>\n",
       "    <tr style=\"text-align: right;\">\n",
       "      <th></th>\n",
       "      <th>School</th>\n",
       "      <th>Bid_Number</th>\n",
       "      <th>Bid_Start_Date</th>\n",
       "      <th>Bid_Close_Date</th>\n",
       "      <th>Bid_Description</th>\n",
       "      <th>Hyperlink</th>\n",
       "    </tr>\n",
       "  </thead>\n",
       "  <tbody>\n",
       "    <tr>\n",
       "      <th>0</th>\n",
       "      <td>University of South Florida</td>\n",
       "      <td>2021-030-ITN-PRO</td>\n",
       "      <td>2021-01-27 14:01:00</td>\n",
       "      <td>2021-02-25 15:00:00</td>\n",
       "      <td>Owner-Controlled Insurance Program for Constru...</td>\n",
       "      <td>NaN</td>\n",
       "    </tr>\n",
       "    <tr>\n",
       "      <th>1</th>\n",
       "      <td>Univeristy of North Florida</td>\n",
       "      <td>GC-2101-01</td>\n",
       "      <td>2021-02-05 17:00:00</td>\n",
       "      <td>2021-03-02 14:00:00</td>\n",
       "      <td>Building 45 Fume Hood Replacement  The Univers...</td>\n",
       "      <td>NaN</td>\n",
       "    </tr>\n",
       "    <tr>\n",
       "      <th>2</th>\n",
       "      <td>Florida State University</td>\n",
       "      <td>ITN 6223-6</td>\n",
       "      <td>2021-02-15 08:00:00</td>\n",
       "      <td>2021-03-12 15:00:00</td>\n",
       "      <td>FSU Remote Virtual Campus and Self-Guided Camp...</td>\n",
       "      <td>NaN</td>\n",
       "    </tr>\n",
       "    <tr>\n",
       "      <th>3</th>\n",
       "      <td>Florida State University</td>\n",
       "      <td>ITN 6221-4</td>\n",
       "      <td>2021-02-11 16:30:00</td>\n",
       "      <td>2021-03-11 15:00:00</td>\n",
       "      <td>Enterprise File and Object Storage Solution  F...</td>\n",
       "      <td>NaN</td>\n",
       "    </tr>\n",
       "    <tr>\n",
       "      <th>4</th>\n",
       "      <td>Florida State University</td>\n",
       "      <td>ITN 6219-A</td>\n",
       "      <td>2021-02-15 00:00:00</td>\n",
       "      <td>2021-03-09 15:00:00</td>\n",
       "      <td>FSU Facilities Uniforms with Related Product a...</td>\n",
       "      <td>NaN</td>\n",
       "    </tr>\n",
       "    <tr>\n",
       "      <th>5</th>\n",
       "      <td>Florida State University</td>\n",
       "      <td>ITN 6198-4</td>\n",
       "      <td>2021-01-26 15:00:00</td>\n",
       "      <td>2021-03-02 15:00:00</td>\n",
       "      <td>Oracle 3rd Party Support  Florida State Univer...</td>\n",
       "      <td>NaN</td>\n",
       "    </tr>\n",
       "    <tr>\n",
       "      <th>6</th>\n",
       "      <td>Florida State University</td>\n",
       "      <td>ITN 6215-A</td>\n",
       "      <td>2021-01-22 00:00:00</td>\n",
       "      <td>2021-02-25 15:00:00</td>\n",
       "      <td>FSU Oglesby Student Union Partitions  Responde...</td>\n",
       "      <td>NaN</td>\n",
       "    </tr>\n",
       "    <tr>\n",
       "      <th>7</th>\n",
       "      <td>Florida State University</td>\n",
       "      <td>ITB 6220-A</td>\n",
       "      <td>2021-02-03 00:00:00</td>\n",
       "      <td>2021-02-23 16:30:00</td>\n",
       "      <td>Carnaghi Arts Building Re-Roofing  Respondent ...</td>\n",
       "      <td>NaN</td>\n",
       "    </tr>\n",
       "    <tr>\n",
       "      <th>8</th>\n",
       "      <td>Florida State University</td>\n",
       "      <td>ITB 6218-A</td>\n",
       "      <td>2021-01-26 00:00:00</td>\n",
       "      <td>2021-02-23 15:00:00</td>\n",
       "      <td>FSU UCA- South Center Roof Tile Repair  a Resp...</td>\n",
       "      <td>NaN</td>\n",
       "    </tr>\n",
       "    <tr>\n",
       "      <th>9</th>\n",
       "      <td>Florida International Univeristy</td>\n",
       "      <td>ITN-2021-00051</td>\n",
       "      <td>2021-02-16 17:00:00</td>\n",
       "      <td>2021-02-26 14:00:00</td>\n",
       "      <td>Consulting and Design Services: Federal Resear...</td>\n",
       "      <td>NaN</td>\n",
       "    </tr>\n",
       "  </tbody>\n",
       "</table>\n",
       "</div>"
      ],
      "text/plain": [
       "                             School        Bid_Number       Bid_Start_Date  \\\n",
       "0       University of South Florida  2021-030-ITN-PRO  2021-01-27 14:01:00   \n",
       "1       Univeristy of North Florida        GC-2101-01  2021-02-05 17:00:00   \n",
       "2          Florida State University        ITN 6223-6  2021-02-15 08:00:00   \n",
       "3          Florida State University        ITN 6221-4  2021-02-11 16:30:00   \n",
       "4          Florida State University        ITN 6219-A  2021-02-15 00:00:00   \n",
       "5          Florida State University        ITN 6198-4  2021-01-26 15:00:00   \n",
       "6          Florida State University        ITN 6215-A  2021-01-22 00:00:00   \n",
       "7          Florida State University        ITB 6220-A  2021-02-03 00:00:00   \n",
       "8          Florida State University        ITB 6218-A  2021-01-26 00:00:00   \n",
       "9  Florida International Univeristy    ITN-2021-00051  2021-02-16 17:00:00   \n",
       "\n",
       "        Bid_Close_Date                                    Bid_Description  \\\n",
       "0  2021-02-25 15:00:00  Owner-Controlled Insurance Program for Constru...   \n",
       "1  2021-03-02 14:00:00  Building 45 Fume Hood Replacement  The Univers...   \n",
       "2  2021-03-12 15:00:00  FSU Remote Virtual Campus and Self-Guided Camp...   \n",
       "3  2021-03-11 15:00:00  Enterprise File and Object Storage Solution  F...   \n",
       "4  2021-03-09 15:00:00  FSU Facilities Uniforms with Related Product a...   \n",
       "5  2021-03-02 15:00:00  Oracle 3rd Party Support  Florida State Univer...   \n",
       "6  2021-02-25 15:00:00  FSU Oglesby Student Union Partitions  Responde...   \n",
       "7  2021-02-23 16:30:00  Carnaghi Arts Building Re-Roofing  Respondent ...   \n",
       "8  2021-02-23 15:00:00  FSU UCA- South Center Roof Tile Repair  a Resp...   \n",
       "9  2021-02-26 14:00:00  Consulting and Design Services: Federal Resear...   \n",
       "\n",
       "   Hyperlink  \n",
       "0        NaN  \n",
       "1        NaN  \n",
       "2        NaN  \n",
       "3        NaN  \n",
       "4        NaN  \n",
       "5        NaN  \n",
       "6        NaN  \n",
       "7        NaN  \n",
       "8        NaN  \n",
       "9        NaN  "
      ]
     },
     "execution_count": 52,
     "metadata": {},
     "output_type": "execute_result"
    }
   ],
   "source": [
    "Opportunities"
   ]
  },
  {
   "cell_type": "code",
   "execution_count": 48,
   "metadata": {},
   "outputs": [],
   "source": [
    "Opportunities.to_excel('Opportunities.xlsx', sheet_name='Main Page', index=False)"
   ]
  },
  {
   "cell_type": "code",
   "execution_count": null,
   "metadata": {},
   "outputs": [],
   "source": [
    "# def relevance_check(df): # drops irrelevance opporutnities\n",
    "#     for i in df.Bid_Description:\n",
    "        "
   ]
  },
  {
   "cell_type": "code",
   "execution_count": 54,
   "metadata": {},
   "outputs": [],
   "source": [
    "# df = []\n",
    "# df_list = []\n",
    "# for i in range(1, 3):\n",
    "#     url_head = 'https://bids.sciquest.com/apps/Router/PublicEvent?tab=PHX_NAV_SourcingAllOpps&CustomerOrg=USFlorida&tmstmp=1613600246398.html?pageNum=%d' %i\n",
    "#     df_list.append(pd.read_html(url)[0])\n",
    "\n",
    "# df = pd.concat(df_list)"
   ]
  },
  {
   "cell_type": "code",
   "execution_count": 2,
   "metadata": {},
   "outputs": [],
   "source": [
    "# from html.parser import HTMLParser\n",
    "# from html.entities import name2codepoint\n",
    "\n",
    "# class MyHTMLParser(HTMLParser):\n",
    "#     def handle_starttag(self, tag, attrs):\n",
    "#         print(\"Start tag:\", tag)\n",
    "#         for attr in attrs:\n",
    "#             print(\"     attr:\", attr)\n",
    "\n",
    "#     def handle_endtag(self, tag):\n",
    "#         print(\"End tag  :\", tag)\n",
    "\n",
    "#     def handle_data(self, data):\n",
    "#         print(\"Data     :\", data)\n",
    "\n",
    "#     def handle_comment(self, data):\n",
    "#         print(\"Comment  :\", data)\n",
    "\n",
    "#     def handle_entityref(self, name):\n",
    "#         c = chr(name2codepoint[name])\n",
    "#         print(\"Named ent:\", c)\n",
    "\n",
    "#     def handle_charref(self, name):\n",
    "#         if name.startswith('x'):\n",
    "#             c = chr(int(name[1:], 16))\n",
    "#         else:\n",
    "#             c = chr(int(name))\n",
    "#         print(\"Num ent  :\", c)\n",
    "\n",
    "#     def handle_decl(self, data):\n",
    "#         print(\"Decl     :\", data)\n",
    "\n",
    "# parser = MyHTMLParser()"
   ]
  }
 ],
 "metadata": {
  "kernelspec": {
   "display_name": "Python 3",
   "language": "python",
   "name": "python3"
  },
  "language_info": {
   "codemirror_mode": {
    "name": "ipython",
    "version": 3
   },
   "file_extension": ".py",
   "mimetype": "text/x-python",
   "name": "python",
   "nbconvert_exporter": "python",
   "pygments_lexer": "ipython3",
   "version": "3.7.6"
  }
 },
 "nbformat": 4,
 "nbformat_minor": 2
}
