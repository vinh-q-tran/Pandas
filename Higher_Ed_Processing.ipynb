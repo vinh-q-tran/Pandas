{
 "cells": [
  {
   "cell_type": "markdown",
   "metadata": {},
   "source": [
    "# Higher Ed Python Code"
   ]
  },
  {
   "cell_type": "code",
   "execution_count": 1,
   "metadata": {},
   "outputs": [],
   "source": [
    "# Import Libraries\n",
    "import pandas as pd\n",
    "import numpy as np\n",
    "import os\n",
    "import datetime\n",
    "import xlsxwriter\n"
   ]
  },
  {
   "cell_type": "markdown",
   "metadata": {},
   "source": [
    "#### Importing Data"
   ]
  },
  {
   "cell_type": "code",
   "execution_count": 2,
   "metadata": {},
   "outputs": [
    {
     "name": "stdout",
     "output_type": "stream",
     "text": [
      "University of Florida\n",
      "Miami Dade College\n"
     ]
    }
   ],
   "source": [
    "# Importing all of the sheets from the UiPath output and creating a variable for each\n",
    "# Appending all variables into a list\n",
    "HigherEdSheets = pd.ExcelFile(\"HigherEdOutput/HigherEd.xlsx\").sheet_names\n",
    "List_of_Schools = []\n",
    "for i in HigherEdSheets:\n",
    "    tab_name = i.replace(\" \",\"_\")\n",
    "    print(i)\n",
    "    globals()[tab_name] = pd.DataFrame(pd.read_excel(\"HigherEdOutput/HigherEd.xlsx\", sheet_name = i))\n",
    "    globals()[tab_name].name = i\n",
    "    List_of_Schools.append(globals()[tab_name])"
   ]
  },
  {
   "cell_type": "markdown",
   "metadata": {},
   "source": [
    "#### Cleaning Up Data"
   ]
  },
  {
   "cell_type": "code",
   "execution_count": 3,
   "metadata": {},
   "outputs": [],
   "source": [
    "opp_dict = {'Bid_Number':[],'Bid_Start_Date':[], 'Bid_Close_Date':[],\"Bid_Description\":[], \"Hyperlink\":[]}\n",
    "Opportunities = pd.DataFrame(opp_dict)\n",
    "\n",
    "def crop_columns(df1,df2):\n",
    "    # df1 should be 'Opportunities' dataframe\n",
    "    # df2 should be the dataframe in question\n",
    "    cropped_list = []\n",
    "    for i in df2.columns:\n",
    "        if i in df1.columns:\n",
    "            pass\n",
    "        else:\n",
    "            cropped_list.append(i)\n",
    "    return cropped_list\n"
   ]
  },
  {
   "cell_type": "markdown",
   "metadata": {},
   "source": [
    "### University of Florida"
   ]
  },
  {
   "cell_type": "code",
   "execution_count": 5,
   "metadata": {},
   "outputs": [
    {
     "data": {
      "text/html": [
       "<div>\n",
       "<style scoped>\n",
       "    .dataframe tbody tr th:only-of-type {\n",
       "        vertical-align: middle;\n",
       "    }\n",
       "\n",
       "    .dataframe tbody tr th {\n",
       "        vertical-align: top;\n",
       "    }\n",
       "\n",
       "    .dataframe thead th {\n",
       "        text-align: right;\n",
       "    }\n",
       "</style>\n",
       "<table border=\"1\" class=\"dataframe\">\n",
       "  <thead>\n",
       "    <tr style=\"text-align: right;\">\n",
       "      <th></th>\n",
       "      <th>Bid_Number</th>\n",
       "      <th>Bid_Start_Date</th>\n",
       "      <th>Bid_Close_Date</th>\n",
       "      <th>Bid_Description</th>\n",
       "      <th>Hyperlink</th>\n",
       "    </tr>\n",
       "  </thead>\n",
       "  <tbody>\n",
       "    <tr>\n",
       "      <th>0</th>\n",
       "      <td>ITB21DB-129</td>\n",
       "      <td>2021-02-10</td>\n",
       "      <td>NaN</td>\n",
       "      <td>NaN</td>\n",
       "      <td>NaN</td>\n",
       "    </tr>\n",
       "    <tr>\n",
       "      <th>1</th>\n",
       "      <td>ITB21KO-131</td>\n",
       "      <td>2021-03-10</td>\n",
       "      <td>NaN</td>\n",
       "      <td>NaN</td>\n",
       "      <td>NaN</td>\n",
       "    </tr>\n",
       "  </tbody>\n",
       "</table>\n",
       "</div>"
      ],
      "text/plain": [
       "    Bid_Number Bid_Start_Date  Bid_Close_Date  Bid_Description  Hyperlink\n",
       "0  ITB21DB-129     2021-02-10             NaN              NaN        NaN\n",
       "1  ITB21KO-131     2021-03-10             NaN              NaN        NaN"
      ]
     },
     "execution_count": 5,
     "metadata": {},
     "output_type": "execute_result"
    }
   ],
   "source": [
    "University_of_Florida.columns\n",
    "University_of_Florida.rename(columns = {'Bid Number':'Bid_Number','Bid Opening Date':'Bid_Start_Date'},inplace = True)\n",
    "University_of_Florida.drop(columns = crop_columns(Opportunities,University_of_Florida), inplace = True)\n",
    "\n",
    "# Clean up the dates to just grab the first one and convert it to a datetime\n",
    "University_of_Florida.Bid_Start_Date = pd.to_datetime([University_of_Florida.Bid_Start_Date[i].split(' at')[0] for i in range(len(University_of_Florida.Bid_Start_Date))])\n",
    "\n",
    "\n",
    "Opportunities.append(University_of_Florida)"
   ]
  }
 ],
 "metadata": {
  "kernelspec": {
   "display_name": "Python 3",
   "language": "python",
   "name": "python3"
  },
  "language_info": {
   "codemirror_mode": {
    "name": "ipython",
    "version": 3
   },
   "file_extension": ".py",
   "mimetype": "text/x-python",
   "name": "python",
   "nbconvert_exporter": "python",
   "pygments_lexer": "ipython3",
   "version": "3.7.0"
  }
 },
 "nbformat": 4,
 "nbformat_minor": 2
}
